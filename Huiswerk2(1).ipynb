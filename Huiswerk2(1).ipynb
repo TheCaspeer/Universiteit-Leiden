{
 "cells": [
  {
   "cell_type": "markdown",
   "id": "DJtNkIKkvK3w",
   "metadata": {
    "id": "DJtNkIKkvK3w",
    "tags": []
   },
   "source": [
    "# Module 2: Afgeleiden en integralen"
   ]
  },
  {
   "cell_type": "markdown",
   "id": "2e9ff57e",
   "metadata": {
    "id": "2e9ff57e"
   },
   "source": [
    "## *Inleverdatum: woensdag 30 oktober 2024 om 17.00*"
   ]
  },
  {
   "cell_type": "markdown",
   "id": "8b36f03b-ef6b-4689-9b45-4ee51cc902b9",
   "metadata": {
    "id": "8b36f03b-ef6b-4689-9b45-4ee51cc902b9"
   },
   "source": [
    "## Student gegevens"
   ]
  },
  {
   "cell_type": "markdown",
   "id": "9339df53-ff58-4080-9d91-3b2e5b89f72c",
   "metadata": {
    "id": "9339df53-ff58-4080-9d91-3b2e5b89f72c"
   },
   "source": [
    "#### *Naam: Casper Juffermans*\n",
    "\n",
    "#### *Studentnummer: S4270118*"
   ]
  },
  {
   "cell_type": "markdown",
   "id": "3dt5yNf-r6uH",
   "metadata": {
    "id": "3dt5yNf-r6uH",
    "tags": []
   },
   "source": [
    "## Algemene instructies"
   ]
  },
  {
   "cell_type": "markdown",
   "id": "4268798a-759c-4ff8-8b9c-e662b10a5f4e",
   "metadata": {
    "id": "4268798a-759c-4ff8-8b9c-e662b10a5f4e"
   },
   "source": [
    "### *Inzicht:*\n",
    "- Lees eerst de officiële documentatie van een bepaalde functionaliteit en parameters als je deze nog niet goed begrijpt. Gebruik daarna een zoekmachine om eventueel nog extra informatie en voorbeelden te vinden.\n",
    "- Stel vragen aan de docenten en student assistenten! Wij zijn er om jullie te helpen 😊.\n",
    "- Je kunt ook vragen stellen via het Brightspace Forum.\n",
    "- Niet alle onderwerpen zijn al aan bod gekomen tijdens het eerste college van deze module. Sla die vragen gerust over totdat we ze behandeld hebben.\n",
    "- Discussies met medestudenten worden aangemoedigd, maar het kopiëren van elkaars code valt onder plagiaat en kan tot uitsluiting van het vak zorgen.\n",
    "\n",
    "### *Code:*\n",
    "- Zorg dat resultaten (bijv. specifieke waarden die moeten worden uitgerekend) altijd geprint worden met uitleg er bij. Gebruik daarbij formatted string met een schappelijk aantal decimalen.\n",
    "- Het gebruik van gevectoriseerde notatie is (indien mogelijk) altijd beter dan het gebruik van een expliciete for loop.\n",
    "- Voorkom het dupliceren van code door functies te definiëren zodat code makkelijk kan worden hergebruikt.\n",
    "\n",
    "### *Stijl:*\n",
    "- Zorg dat code duidelijk te lezen en te begrijpen is door een ander. Vraag zo nu en dan een medestudent om te controleren of dat het geval is.\n",
    "- Voeg compact maar inzichtelijk commentaar toe aan de code. Commentaar is bedoeld om extra uitleg te geven over waar een stuk code voor dient, hoe het werkt, en eventuele input en output.\n",
    "\n",
    "### *Plotten:*\n",
    "- Maak duidelijk en makkelijk te begrijpen plots. De standaardinstellingen van Matplotlib zijn vaak niet de beste instellingen.\n",
    "- Voeg altijd labels aan de assen toe met de grootheden en eventuele eenheden die worden weergegeven.\n",
    "- Voeg ook een legenda toe die de verschillende data beschrijft en eventueel een titel.\n",
    "- Kies duidelijk zichtbare en te onderscheiden symbolen, lijnstijlen, kleuren, etc.\n",
    "Pas eventueel de grootte en lengte-breedte verhouding van het figuur aan als dat de plot duidelijker maakt.\n",
    "\n",
    "### *Inleveren:*\n",
    "- Een antwoord in het notebook moet worden gegeven in één of meerdere cellen onder de vraag.\n",
    "- De opdrachten moeten worden ingeleverd op Brightspace als een enkel Jupyter notebook bestand. Zorg dat je de notebook inlevert bij de juiste module.\n",
    "- Zorg dat je voor het inleveren alle cellen in het notebook van begin tot einde nog een keer uitvoert. Cellen die een foutmelding geven, zullen niet worden nagekeken. Verwijder dus dergelijke cellen of maak er commentaar van.\n",
    "- Vergeet ook niet je naam en studentnummer aan het begin van de notebook in te vullen.\n",
    "\n",
    "### *Beoordeling:*\n",
    "- Er zijn in totaal 80 punten te behalen.\n",
    "- Bij te laat inleveren zal er 0,5 punt van het cijfer worden afgetrokken per dag te laat inleveren.\n",
    "- De beoordeling van de opgaven gaat niet alleen over het juiste resultaat, maar ook over de leesbaarheid en structuur van de code.\n",
    "- Zorg er voor dat de antwoorden in de notebook eenvoudig te begrijpen zijn en maak gebruik van commentaar om toe te lichten hoe een stuk code werkt en wat het uitvoert."
   ]
  },
  {
   "cell_type": "markdown",
   "id": "01067428",
   "metadata": {
    "id": "01067428"
   },
   "source": [
    "## Onderwerpen van deze notebook"
   ]
  },
  {
   "cell_type": "markdown",
   "id": "90fc131e-c3a3-4808-9e0c-374c22318de2",
   "metadata": {
    "id": "90fc131e-c3a3-4808-9e0c-374c22318de2"
   },
   "source": [
    "- Functies definiëren, parameters, argumenten, return\n",
    "- Numerieke and analytische afgeleiden en integralen\n",
    "- Eindige differentie, Riemann som, trapezium regel\n",
    "- Nauwkeurigheid van een numerieke methode bepalen\n",
    "- `arange`, `linspace`, `logspace`, en `gradient` functies van NumPy\n",
    "- `trapezoid` en `quad` functies van SciPy\n",
    "- Docstrings schrijven en inzien"
   ]
  },
  {
   "cell_type": "markdown",
   "id": "85154377-de23-44cc-a111-b7496bbb7c11",
   "metadata": {
    "id": "85154377-de23-44cc-a111-b7496bbb7c11"
   },
   "source": [
    "## Opgaven en puntenverdeling"
   ]
  },
  {
   "cell_type": "markdown",
   "id": "442119ba-a3df-4279-a107-7a8ce6cf34b9",
   "metadata": {
    "id": "442119ba-a3df-4279-a107-7a8ce6cf34b9"
   },
   "source": [
    "- [Oefenopdrachten: Functies definiëren en uitvoeren](#oefenopdrachten) (10 punten)\n",
    "- [Opdracht 1: Nulpunten van een kwadratische vergelijking](#nulpunten) (17 punten)\n",
    "  - Resultaat: 12 punten\n",
    "  - Stijl en structuur van code: 2 punten\n",
    "  - Commentaar en toelichtingen: 3 punten\n",
    "- [Opdracht 2: Vuurpijl van een toren lanceren](#vuurpijl_lanceren) (18 punten)\n",
    "  - Resultaat: 13 punten\n",
    "  - Stijl en structuur van code: 2 punten\n",
    "  - Commentaar en toelichtingen: 3 punten\n",
    "- [Opdracht 3: Riemann som](#riemann_som) (15 punten)\n",
    "  - Resultaat: 10 punten\n",
    "  - Stijl en structuur van code: 2 punten\n",
    "  - Commentaar en toelichtingen: 3 punten\n",
    "- [Opdracht 4: Lichtkracht van de zon](#lichtkracht_zon) (20 punten)\n",
    "  - Resultaat: 15 punten\n",
    "  - Stijl en structuur van code: 2 punten\n",
    "  - Commentaar en toelichtingen: 3 punten"
   ]
  },
  {
   "cell_type": "markdown",
   "id": "cd50d423",
   "metadata": {
    "id": "cd50d423"
   },
   "source": [
    "## Importeren van Python modules"
   ]
  },
  {
   "cell_type": "markdown",
   "id": "e507be8d",
   "metadata": {
    "id": "e507be8d"
   },
   "source": [
    "Om je alvast opweg te helpen, importeren we hier alvast de [pyplot](https://matplotlib.org/stable/tutorials/introductory/pyplot.html) interface van [Matplotlib](https://matplotlib.org) en de [NumPy](https://numpy.org) bibliotheek."
   ]
  },
  {
   "cell_type": "code",
   "execution_count": 3,
   "id": "d82dc06a",
   "metadata": {
    "id": "d82dc06a"
   },
   "outputs": [],
   "source": [
    "import matplotlib.pyplot as plt\n",
    "import numpy as np"
   ]
  },
  {
   "cell_type": "markdown",
   "id": "d4f7f2b4",
   "metadata": {
    "id": "d4f7f2b4"
   },
   "source": [
    "## Oefenopdrachten: Functies definiëren en uitvoeren *(10 punten)* <a class='anchor' id='oefenopdrachten'></a>"
   ]
  },
  {
   "cell_type": "markdown",
   "id": "d6222fa6",
   "metadata": {
    "id": "d6222fa6"
   },
   "source": [
    "Een [functie](https://python3.nl/wiki/wat-zijn-functies-in-python/) is een stuk samenhangende code dat kan worden aangeroepen bij de naam die het heeft. Op deze manier kan code makkelijk worden hergebruikt.\n",
    "\n",
    "Sommige ingebouwde functies van Python heb je misschien al weleens gebruikt, zoals `len()`, `range()`, en `print()`. Deze zijn onderdeel van de [build-in functies](https://docs.python.org/3/library/functions.html) van Python.\n",
    "\n",
    "Je kunt ook zelf [functies definiëren](https://docs.python.org/3/tutorial/controlflow.html#defining-functions). Als je bijvoorbeeld een stuk code hebt geschreven voor het maken van een plot, dan is het handig om niet telkens de hele code te hoeven kopiëren als je eenzelfde plot wilt maken met andere data.\n",
    "\n",
    "Functies zijn dus een belangrijk aspect van leren programmeren. Het begin van een functie wordt\n",
    "aangegeven met het `def` commando, daarna komt de functienaam (die je zelf mag kiezen), en vervolgens komen de\n",
    "haakjes met één of meerdere parameters, bijvoorbeeld:"
   ]
  },
  {
   "cell_type": "code",
   "execution_count": 4,
   "id": "5c188947",
   "metadata": {
    "id": "5c188947"
   },
   "outputs": [],
   "source": [
    "def print_groet(naam):\n",
    "    print(f\"Hallo {naam}\")"
   ]
  },
  {
   "cell_type": "markdown",
   "id": "b543cede",
   "metadata": {
    "id": "b543cede"
   },
   "source": [
    "Dit is een functie die de string `Hallo` print, samen met de naam die als argument van de parameter `naam` wordt meegegeven. Een stuk tekst heeft het [type string](https://docs.python.org/3/library/stdtypes.html#text-sequence-type-str), waarvoor enkele of dubbele aanhalingstekens worden gebruikt. De `print()` functie (zie [documentatie](https://docs.python.org/3/library/functions.html#print)) zul je vaak gebruiken om je code te testen en resultaten weer te geven.\n",
    "\n",
    "De `f` die voorafgaat maakt dit een [formatted string](https://www.geeksforgeeks.org/formatted-string-literals-f-strings-python/). Dit is een handige manier om de waarde van een variabele in een string op te nemen door de variabele naam tussen accolades te zetten.\n",
    "\n",
    "De functie is nu gedefinieerd maar nog niet uitgevoerd. Dat wordt gedaan door de functie expliciet aan te roepen met het argument dat nodig is. Dit doe je zo:"
   ]
  },
  {
   "cell_type": "code",
   "execution_count": 5,
   "id": "40ed13e3",
   "metadata": {
    "colab": {
     "base_uri": "https://localhost:8080/"
    },
    "id": "40ed13e3",
    "outputId": "ec7e20bb-9ac0-4157-a9bd-7edcd5aafc8a"
   },
   "outputs": [
    {
     "name": "stdout",
     "output_type": "stream",
     "text": [
      "Hallo Tomas\n"
     ]
    }
   ],
   "source": [
    "print_groet(\"Tomas\")"
   ]
  },
  {
   "cell_type": "markdown",
   "id": "b08b535e-ab40-446e-b3c4-2c9111c6047a",
   "metadata": {
    "id": "b08b535e-ab40-446e-b3c4-2c9111c6047a"
   },
   "source": [
    "Een functie kan ook één of meerdere objecten teruggeven door gebruik te maken van het [return](https://www.w3schools.com/python/ref_keyword_return.asp) commando. Het object dat wordt teruggegeven door een functie kan worden opgeslagen in een variabele.\n",
    "\n",
    "We kunnen bijvoorbeeld de tekst met de begroeting teruggeven in plaats van te laten printen door de functie:"
   ]
  },
  {
   "cell_type": "code",
   "execution_count": 6,
   "id": "fa1ddf34-27a7-4d1d-9f21-2fd1a23c7aa9",
   "metadata": {
    "id": "fa1ddf34-27a7-4d1d-9f21-2fd1a23c7aa9"
   },
   "outputs": [],
   "source": [
    "def return_groet(naam):\n",
    "    return f\"Hallo {naam}\""
   ]
  },
  {
   "cell_type": "markdown",
   "id": "4bf33166-3e0b-4a07-bac9-fd134b4484ce",
   "metadata": {
    "id": "4bf33166-3e0b-4a07-bac9-fd134b4484ce"
   },
   "source": [
    "Vervolgens kunnen we de `return_groet()` uitvoeren en het resultaat opslaan in een variabele genaamd `groet`. De inhoud van die variabele kunnen we bijvoorbeeld printen of op een later moment gebruiken:"
   ]
  },
  {
   "cell_type": "code",
   "execution_count": 7,
   "id": "6b35e04d-4071-462c-bdbe-e002fda757bb",
   "metadata": {
    "colab": {
     "base_uri": "https://localhost:8080/"
    },
    "id": "6b35e04d-4071-462c-bdbe-e002fda757bb",
    "outputId": "022da5fb-7677-4a72-be2e-4ac6cb22f26f"
   },
   "outputs": [
    {
     "name": "stdout",
     "output_type": "stream",
     "text": [
      "Hallo Tomas\n"
     ]
    }
   ],
   "source": [
    "groet = return_groet(\"Tomas\")\n",
    "print(groet)"
   ]
  },
  {
   "cell_type": "markdown",
   "id": "62bc0d4e-5a09-43ba-bb83-78ca72238b43",
   "metadata": {
    "id": "62bc0d4e-5a09-43ba-bb83-78ca72238b43"
   },
   "source": [
    "Je kunt nu zelf aan de slag gaan! Hieronder staan 6 korte opgaven om te oefenen met functies."
   ]
  },
  {
   "cell_type": "markdown",
   "id": "sIBSP4_8GFFb",
   "metadata": {
    "id": "sIBSP4_8GFFb"
   },
   "source": [
    "**Belangrijk**:\n",
    "Het gebruik van ingebouwde functies van Python, of functies van andere modules zoals `math` en `numpy` is bij geen van de 6 oefenopdrachten toegestaan, tenzij het er expliciet bij vermeld staat. Het is dus de bedoeling dat je de gevraagde functionaliteit geheel zelf programmeert door gebruik te maken van basis syntax zoals `if`/`else` en `for`."
   ]
  },
  {
   "cell_type": "markdown",
   "id": "30c5764a",
   "metadata": {
    "id": "30c5764a"
   },
   "source": [
    "**[a]** Schrijf een functie genaamd `wortel()` die de wortel van een input getal berekent en deze teruggeeft. Voer de functie uit door het getal 91 als input te geven. *(1 punt)*"
   ]
  },
  {
   "cell_type": "code",
   "execution_count": 8,
   "id": "08fe31a1",
   "metadata": {
    "id": "08fe31a1"
   },
   "outputs": [
    {
     "name": "stdout",
     "output_type": "stream",
     "text": [
      "9.539392014169456\n"
     ]
    }
   ],
   "source": [
    "def wortel(value):\n",
    "    return value**0.5\n",
    "print(wortel(91))"
   ]
  },
  {
   "cell_type": "markdown",
   "id": "2b8cc725",
   "metadata": {
    "id": "e3b923d5"
   },
   "source": [
    "**[b]** Schrijf een functie genaamd `kleinste_getal()` die twee getallen als input heeft en het kleinste getal teruggeeft. De functie moet ook werken voor het geval dat beide getallen dezelfde waarde hebben. Voer de functie uit met als input de getallen 5.7 en -12.3 *(1 punt)*"
   ]
  },
  {
   "cell_type": "code",
   "execution_count": 9,
   "id": "bad2e6ff",
   "metadata": {
    "id": "0a04e06f"
   },
   "outputs": [
    {
     "name": "stdout",
     "output_type": "stream",
     "text": [
      "5.7\n"
     ]
    }
   ],
   "source": [
    "def kleinste_getal(val1,val2):\n",
    "    if (val1 <= val2): # Handles both the val2 being the biggest and val1 = val2 scenario due to the return of val2 and val1 being the same\n",
    "        return val2 \n",
    "    else:\n",
    "        return val1\n",
    "print(kleinste_getal(5.7,-12.3))"
   ]
  },
  {
   "cell_type": "markdown",
   "id": "7ce1eea5",
   "metadata": {
    "id": "7ce1eea5"
   },
   "source": [
    "**[c]** Schrijf een functie genaamd `mediaan()` die de [mediaan](https://nl.wikipedia.org/wiki/Mediaan_(statistiek)) van een lijst getallen bepaald. Daarbij mag je de [sorted](https://docs.python.org/3/library/functions.html#sorted) functie gebruiken (zie ook deze [voorbeelden](https://docs.python.org/3/howto/sorting.html)). Bedenk welke twee mogelijkheden er zijn afhankelijk van de lengte van de lijst. Tip: maak gebruik van de [modulo operator](https://realpython.com/python-modulo-operator/). Pas de `mediaan()` functie toe op de `getallen_lijst`. *(2 punten)*"
   ]
  },
  {
   "cell_type": "code",
   "execution_count": 10,
   "id": "8048f39d",
   "metadata": {
    "id": "8048f39d"
   },
   "outputs": [
    {
     "name": "stdout",
     "output_type": "stream",
     "text": [
      "9.6\n"
     ]
    }
   ],
   "source": [
    "getallen_lijst = [7.8, 3.2, 15.3, 11.4, 5.4, 19.6, 6.8, 2.1]\n",
    "def mediaan(list):\n",
    "    listSorted = sorted(list)\n",
    "    n=len(listSorted) # determines the length of the list to use the right formula for the mean\n",
    "    if(n%2==0):\n",
    "        return (listSorted[int(n/2)]+listSorted[int(n/2)+1])/2\n",
    "    else:\n",
    "        return listSorted[n+1]/2\n",
    "\n",
    "print(mediaan(getallen_lijst))"
   ]
  },
  {
   "cell_type": "markdown",
   "id": "23b774c7",
   "metadata": {
    "id": "23b774c7"
   },
   "source": [
    "**[d]** Schrijf een functie genaamd `getallen_lijst()` die drie getallen als input heeft: `start`, `stop`, en `stap`. De functie moet een lijst met getallen teruggeven in het bereik van `start` en `stop` en een stapgrootte van `stap`. De lijst moet eindigen voor dat de `stop` waarde is bereikt dus het getal `stop` mag niet onderdeel zijn van de lijst. Voer de functie uit met als input `start_getal`, `stop_getal`, en `stap_grootte`. *(2 punten)*"
   ]
  },
  {
   "cell_type": "code",
   "execution_count": 11,
   "id": "5bc8a922",
   "metadata": {
    "id": "5bc8a922"
   },
   "outputs": [
    {
     "name": "stdout",
     "output_type": "stream",
     "text": [
      "[-6, -4, -2, 0, 2, 4, 6, 8, 10, 12, 14, 16, 18]\n"
     ]
    }
   ],
   "source": [
    "start_getal, stop_getal, stap_grootte = -6.0, 20.0, 2.0\n",
    "\n",
    "def getallen_lijst(start,stop,stap):\n",
    "    list = []\n",
    "    try:\n",
    "        for x in range(int(start),int(stop), int(stap)):\n",
    "            list.append(x)\n",
    "        return list\n",
    "    except: \n",
    "        return \"Deze functie neemt aan dat alle waarde integers zijn/kunnen worden\"\n",
    "\n",
    "print(getallen_lijst(start_getal,stop_getal,stap_grootte))\n",
    "\n",
    "# ..."
   ]
  },
  {
   "cell_type": "markdown",
   "id": "ee1af38d",
   "metadata": {
    "id": "ee1af38d"
   },
   "source": [
    "**[e]** Schrijf zelf een functie genaamd `lengte()` die het aantal items in een lijst teruggeeft of het aantal letters in een string. Voer de functie eerst uit met als input `lijst` en daarna met als input `woord`. *(2 punten)*"
   ]
  },
  {
   "cell_type": "code",
   "execution_count": 12,
   "id": "442709cb",
   "metadata": {
    "id": "442709cb"
   },
   "outputs": [
    {
     "name": "stdout",
     "output_type": "stream",
     "text": [
      "De lijst heeft 5 elementen\n",
      "\n",
      "Er zijn 31 karakters in de string en 26 letters\n"
     ]
    }
   ],
   "source": [
    "lijst = [3.14, (True, False), 'python', None, [1, 2, 3]]\n",
    "tekst = 'Leiden is een stad in Nederland'\n",
    "\n",
    "def lengte(arg):\n",
    "    if (type(arg) == str):\n",
    "        # Splits string into a list and counts arguments in said array\n",
    "        argList = list(arg)\n",
    "        num1 = len(argList)\n",
    "        spaces = 0 \n",
    "        for x in range(0,len(argList)-1):\n",
    "            if (argList[x] == \" \"):\n",
    "                spaces+=1\n",
    "        return f\"Er zijn {num1} karakters in de string en {num1-spaces} letters\"\n",
    "        # Assumes no numbers or other special charachter are inputted\n",
    "    elif (type(arg) == list):\n",
    "        return f\"De lijst heeft {len(arg)} elementen\"\n",
    "    else:\n",
    "        return \"Unsupported data type inserted\"\n",
    "print(lengte(lijst))\n",
    "print(\"\")\n",
    "print(lengte(tekst))"
   ]
  },
  {
   "cell_type": "markdown",
   "id": "de69a89a-069b-4b0b-b542-f9596bc05e3a",
   "metadata": {
    "id": "de69a89a-069b-4b0b-b542-f9596bc05e3a"
   },
   "source": [
    "**[f]** Schrijf een functie genaamd `optellen()` die de waardes van een [arbitrair aantal argumenten](https://www.w3schools.com/python/gloss_python_function_arbitrary_arguments.asp) bij elkaar optelt. Elk opgegeven argument moet daarom een [float](https://docs.python.org/3/library/stdtypes.html#numeric-types-int-float-complex) type zijn. Je mag gebruik maken van een `for` loop (zie [documentatie](https://docs.python.org/3/reference/compound_stmts.html#for)) om de getallen op te tellen. Voer de functie uit zodat de getallen 3.1, 5.7, 13.2, en 8.4 bij elkaar worden opgeteld. Daarbij moet elk getal als apart argument worden meegegeven aan de `optellen()` functie. *(2 punten)*"
   ]
  },
  {
   "cell_type": "code",
   "execution_count": 13,
   "id": "7a528e53-ae17-468e-8c5b-5ab437986265",
   "metadata": {
    "id": "7a528e53-ae17-468e-8c5b-5ab437986265"
   },
   "outputs": [
    {
     "name": "stdout",
     "output_type": "stream",
     "text": [
      "30.4\n"
     ]
    }
   ],
   "source": [
    "def optellen(*args):\n",
    "    sum = 0\n",
    "    for n in args:\n",
    "        sum += n\n",
    "    return sum\n",
    "print(optellen(3.1,5.7,13.2,8.4))"
   ]
  },
  {
   "cell_type": "markdown",
   "id": "0abe30f2",
   "metadata": {
    "id": "0abe30f2"
   },
   "source": [
    "## Opdracht 1: Nulpunten van een kwadratische vergelijking *(17 punten)* <a class='anchor' id='nulpunten'></a>"
   ]
  },
  {
   "cell_type": "markdown",
   "id": "gqV3SoqKUhoN",
   "metadata": {
    "id": "gqV3SoqKUhoN"
   },
   "source": [
    "**Belangrijk:** *Bij deze opdracht kun je 2 punten verdienen voor de structuur en stijl van je code. Ook kun je 3 punten verdienen voor het toevoegen van duidelijk commentaar bij de code en eventuele tekst cellen met een toelichting.*"
   ]
  },
  {
   "cell_type": "markdown",
   "id": "aa688a46",
   "metadata": {
    "id": "aa688a46"
   },
   "source": [
    "[Kwadratische vergelijkingen](https://nl.wikipedia.org/wiki/Vierkantsvergelijking) komen veel voor binnen de natuurkunde. Bijvoorbeeld bij het berekenen van een [eenparig versnelde beweging](https://nl.wikipedia.org/wiki/Eenparig_versnelde_beweging) of bij het berekenen van de [kinetische energie](https://nl.wikipedia.org/wiki/Kinetische_energie) van een object.\n",
    "\n",
    "Schrijf een code die de nulpunten berekent van de volgende kwadratische vergelijking:\n",
    "\n",
    "$$f(x) = 5 + 3x - 1.2x^2$$\n",
    "\n",
    "Een dergelijke vergelijking wordt ook wel een tweedegraads [polynoom](https://nl.wikipedia.org/wiki/Polynoom) genoemd.\n",
    "\n",
    "<!-- ![PolynoomAnalyse](https://raw.githubusercontent.com/spcourse/progns/51439878cebedd553199c4cc83b31a1c08ac3418/integreren/nulpunten/PolynoomAnalyse.png) -->"
   ]
  },
  {
   "cell_type": "markdown",
   "id": "17814553-782f-4e02-9acf-3624650f4118",
   "metadata": {
    "id": "17814553-782f-4e02-9acf-3624650f4118"
   },
   "source": [
    "**[a]** Schrijf een functie genaamd `nulpunten()` en geef drie parameters mee: `a`, `b`, en `c`. De parameters worden gebruikt om de nulpunten van de vergelijking $f(x) = ax^2 + bx + c$ uit te rekenen. De functie moet een `None` teruggeven als er geen nulpunten zijn, een enkel getal als er één oplossing is, en een [tuple](https://docs.python.org/3/tutorial/datastructures.html#tuples-and-sequences) met twee waardes, `(nul_1, nul_2)`, als de vergelijking twee nulpunten heeft. *(4 punten)*"
   ]
  },
  {
   "cell_type": "code",
   "execution_count": 72,
   "id": "5cd58744",
   "metadata": {
    "id": "5cd58744"
   },
   "outputs": [],
   "source": [
    "def nulpunten(a,b,c):\n",
    "    # Calculates the discriminant to see how many solutions there are\n",
    "    det = b**2-4*a*c \n",
    "\n",
    "    # Uses this to compute the (real) solution(s) to the equation according to the known abc-formula\n",
    "    if(det< 0):\n",
    "        raise Exception(\"This function does not have any real solutions\")\n",
    "    if(det == 0):\n",
    "        print(f\"The solution to the equation is {round(-b/(2*a),2)}\")\n",
    "        return [round(-b/(2*a),2)]\n",
    "    if(det > 0):\n",
    "        sol1 = round((-1*b + det**0.5)/(2*a),2)\n",
    "        sol2 = round((-1*b - det**0.5)/(2*a),2)\n",
    "        print(f\"The solutions to the equation are {sol1} and {sol2}\")\n",
    "        return [sol1,sol2]"
   ]
  },
  {
   "cell_type": "markdown",
   "id": "d55f0c3d",
   "metadata": {},
   "source": [
    "**[b]** Voer de functie `nulpunten()` uit om de nulpunten van *f(x)* te berekenen. *(1 punt)*"
   ]
  },
  {
   "cell_type": "code",
   "execution_count": 73,
   "id": "3975f31a",
   "metadata": {},
   "outputs": [
    {
     "name": "stdout",
     "output_type": "stream",
     "text": [
      "The solutions to the equation are -1.14 and 3.64\n",
      "[-1.14, 3.64]\n"
     ]
    }
   ],
   "source": [
    "print(nulpunten(-1.2,3,5))"
   ]
  },
  {
   "cell_type": "markdown",
   "id": "edfcd3d8",
   "metadata": {
    "id": "edfcd3d8"
   },
   "source": [
    "**[c]** Plot de functie over een bereik van `x = -3` tot `x = 5`. Maak daarbij gebruik van de `linspace()` functie van NumPy (zie [documentatie](https://numpy.org/doc/stable/reference/generated/numpy.linspace.html)) om 100 waardes voor $x$ te generenen. Markeer de nulpunten in de plot met gestippelde verticale lijnen door gebruik te maken van de `axvline()` functie van Matplotlib (zie [documentatie](https://matplotlib.org/stable/api/_as_gen/matplotlib.pyplot.axvline.html)). *(3 punten)*"
   ]
  },
  {
   "cell_type": "code",
   "execution_count": 75,
   "id": "98803a56",
   "metadata": {
    "id": "98803a56"
   },
   "outputs": [
    {
     "name": "stdout",
     "output_type": "stream",
     "text": [
      "The solutions to the equation are -1.14 and 3.64\n"
     ]
    },
    {
     "data": {
      "image/png": "[encoded data removed]",
      "text/plain": [
       "<Figure size 640x480 with 1 Axes>"
      ]
     },
     "metadata": {},
     "output_type": "display_data"
    }
   ],
   "source": [
    "def plotFunction(a,b,c,range1,range2):\n",
    "    \"\"\"\n",
    "    Plots the range of a 2nd degree polynomial function in the form of ax^2+bx+c, \n",
    "    with the range of the plot being set by range1 and range2.\n",
    "    The plot includes a vertical line for each point where the function intersects the x-axis.\n",
    "    \"\"\"\n",
    "    # Ensures the range is set accuractly for the linspace function\n",
    "    if(range1>range2):\n",
    "        temp1 = range1\n",
    "        range1 = range2\n",
    "        range2 = range1\n",
    "\n",
    "    values = []\n",
    "    linspaceValues = np.linspace(range1,range2,100)\n",
    "\n",
    "    # Generates a list of evenly distributed floats, with these floats being used as x \n",
    "    for x in linspaceValues:\n",
    "        values.append(a*x**2+b*x+c)\n",
    "\n",
    "    # Renames the values for readability\n",
    "    x = linspaceValues\n",
    "    y = values\n",
    "\n",
    "    # Plots the curve\n",
    "    plt.plot(x,y) \n",
    "    plt.xlim(range1,range2)\n",
    "    for x in nulpunten(a,b,c):\n",
    "        plt.axvline(x)\n",
    "\n",
    "    plt.grid(True)\n",
    "    \n",
    "plotFunction(-1.2,3,5,-3,5)"
   ]
  },
  {
   "cell_type": "markdown",
   "id": "1eb48972",
   "metadata": {
    "id": "1eb48972"
   },
   "source": [
    "Het is aan te raden om een zogeheten [docstring](https://realpython.com/documenting-python-code/#documenting-your-python-code-base-using-docstrings) toe te voegen aan een functie, zodat de functionaliteit en parameters eenvoudig te begrijpen voor een ieder die de functie gebruikt."
   ]
  },
  {
   "cell_type": "markdown",
   "id": "fAr7vZk3GzML",
   "metadata": {
    "id": "fAr7vZk3GzML"
   },
   "source": [
    "**[d]** Voeg een *docstring* toe aan de `nulpunten()` functie (zonder de functie te kopiëren) met daarin korte informatie over de functionaliteit, parameters, en return. Bekijk de lijst met [build-in functions](https://docs.python.org/3/library/functions.html) van Python en gebruik in de cel hieronder één van de functies om de [docstring](https://realpython.com/documenting-python-code/#documenting-your-python-code-base-using-docstrings) van `nulpunten()` te printen. *(2 punten)*"
   ]
  },
  {
   "cell_type": "code",
   "execution_count": 17,
   "id": "44d6fa74",
   "metadata": {},
   "outputs": [
    {
     "name": "stdout",
     "output_type": "stream",
     "text": [
      "Help on function nulpunten in module __main__:\n",
      "\n",
      "nulpunten(a, b, c)\n",
      "    Calculates the zero-point of a 2nd degree polynomial in the form ax^2+bx+c \n",
      "    Paramaters: \n",
      "    a, the value of a in the previously mentioned polynomial form \n",
      "    b, the value of b in the previously mentioned polynomial form \n",
      "    c, the value of c in the previously mentioned polynomial form \n",
      "    Returns an array with either 1 or 2 floats\n",
      "\n"
     ]
    }
   ],
   "source": [
    "nulpunten.__doc__ = (\n",
    "    \"Calculates the zero-point of a 2nd degree polynomial in the form ax^2+bx+c\\n\"\n",
    "    \"Parameters:\\n\"\n",
    "    \"a: the value of a in the previously mentioned polynomial form\\n\"\n",
    "    \"b: the value of b in the previously mentioned polynomial form\\n\"\n",
    "    \"c: the value of c in the previously mentioned polynomial form\\n\"\n",
    "    \"Returns:\\n\"\n",
    "    \"an array with either 1 or 2 floats\"\n",
    ")\n",
    "help(nulpunten)\n"
   ]
  },
  {
   "cell_type": "markdown",
   "id": "d7758936",
   "metadata": {},
   "source": [
    "**[e]** Test de nulpunten functie ook voor input argumenten waarvoor er één nulpunt is en bevestig dat door de functie opnieuw te plotten. *(2 punten)*"
   ]
  },
  {
   "cell_type": "code",
   "execution_count": 18,
   "id": "df89568b",
   "metadata": {},
   "outputs": [
    {
     "name": "stdout",
     "output_type": "stream",
     "text": [
      "[-1.0]\n"
     ]
    },
    {
     "data": {
      "image/png": "[encoded data removed]",
      "text/plain": [
       "<Figure size 640x480 with 1 Axes>"
      ]
     },
     "metadata": {},
     "output_type": "display_data"
    }
   ],
   "source": [
    "# de functie f(x) = 2x^2+4x+2 heeft precies 1 nulpunt\n",
    "\n",
    "print(nulpunten(2,4,2))\n",
    "plotFunction(2,4,2,-2.5,1.5)\n"
   ]
  },
  {
   "cell_type": "markdown",
   "id": "38a484ae",
   "metadata": {
    "id": "38a484ae"
   },
   "source": [
    "## Opdracht 2: Vuurpijl van een toren lanceren *(18 punten)* <a class='anchor' id='vuurpijl_lanceren'></a>"
   ]
  },
  {
   "cell_type": "markdown",
   "id": "2HBbFP2cUZLk",
   "metadata": {
    "id": "2HBbFP2cUZLk"
   },
   "source": [
    "**Belangrijk:** *Bij deze opdracht kun je 2 punten verdienen voor de structuur en stijl van je code. Ook kun je 3 punten verdienen voor het toevoegen van duidelijk commentaar bij de code en eventuele tekst cellen met een toelichting.*"
   ]
  },
  {
   "cell_type": "markdown",
   "id": "20ee111a-075e-40d6-bfe5-42d493a04aa0",
   "metadata": {
    "id": "20ee111a-075e-40d6-bfe5-42d493a04aa0"
   },
   "source": [
    "In deze opdracht ga je op analytische en numerieke wijze de hoogte en snelheid uitrekenen van een vuurpijl die van een toren wordt gelanceerd. Hierbij mag je de aanname maken dat de vuurpijl alleen in verticale richting beweegt en dat alleen de [zwaartekracht](https://nl.wikipedia.org/wiki/Zwaartekracht) van invloed is op de versnelling. De vuurpijl wordt eerst omhoog gelanceerd en valt dan weer verticaal naar beneden totdat deze de grond bereikt.\n",
    "\n",
    "De hoogte van de vuurpijl, $y$, kan in deze situatie analytisch worden berekend als functie van tijd, $t$, voor een gegeven startpositie en snelheid:\n",
    "\n",
    "$$y = y_0 + v_0t + \\frac{1}{2}at^2$$\n",
    "\n",
    "Hierbij is $y_0$ de start hoogte, $v_0$ de beginsnelheid, en $a$ de [valversnelling](https://nl.wikipedia.org/wiki/Valversnelling). Een dergelijke analytische berekening geeft de exacte oplossing van de vergelijking."
   ]
  },
  {
   "cell_type": "markdown",
   "id": "58734572-9007-4012-8076-722386c31860",
   "metadata": {
    "id": "58734572-9007-4012-8076-722386c31860"
   },
   "source": [
    "**[a]** Creeër eerst een array genaamd `t_analytisch` met waardes voor de tijd van 0 to 10 seconden in tijdsstappen van 0.1 seconde. Gebruik daarbij een functie van NumPy (zie [documentatie](https://numpy.org/doc/stable/user/basics.creation.html)) die de array automatisch met getallen vult, dus zonder een lijst handmatig te vullen. *(1 punt)*"
   ]
  },
  {
   "cell_type": "code",
   "execution_count": 19,
   "id": "1197089c-9ee3-4e26-afeb-4f9bdf3e9437",
   "metadata": {
    "id": "1197089c-9ee3-4e26-afeb-4f9bdf3e9437"
   },
   "outputs": [
    {
     "name": "stdout",
     "output_type": "stream",
     "text": [
      "[0.  0.1 0.2 0.3 0.4 0.5 0.6 0.7 0.8 0.9 1.  1.1 1.2 1.3 1.4 1.5 1.6 1.7\n",
      " 1.8 1.9 2.  2.1 2.2 2.3 2.4 2.5 2.6 2.7 2.8 2.9 3.  3.1 3.2 3.3 3.4 3.5\n",
      " 3.6 3.7 3.8 3.9 4.  4.1 4.2 4.3 4.4 4.5 4.6 4.7 4.8 4.9 5.  5.1 5.2 5.3\n",
      " 5.4 5.5 5.6 5.7 5.8 5.9 6.  6.1 6.2 6.3 6.4 6.5 6.6 6.7 6.8 6.9 7.  7.1\n",
      " 7.2 7.3 7.4 7.5 7.6 7.7 7.8 7.9 8.  8.1 8.2 8.3 8.4 8.5 8.6 8.7 8.8 8.9\n",
      " 9.  9.1 9.2 9.3 9.4 9.5 9.6 9.7 9.8 9.9]\n"
     ]
    }
   ],
   "source": [
    "import numpy as py\n",
    "\n",
    "# Generates a list of numbers, starting at 0 and incrementing with 0.1 before reaching 10 (10 is not a value in the list)\n",
    "t_analytisch = py.arange(0,10,0.1)\n",
    "# Er staat \"tot 10\", maar als er tot en met werd bedield had ik ipv 10 10.1 opgeschreven \n",
    "\n",
    "print(t_analytisch)"
   ]
  },
  {
   "cell_type": "markdown",
   "id": "4e740971-1c5f-46d5-a082-960dd882e16a",
   "metadata": {
    "id": "4e740971-1c5f-46d5-a082-960dd882e16a"
   },
   "source": [
    "**[b]** Bereken nu de analytische oplossing van de hoogte en snelheid voor de situatie waarbij de vuurpijl van 60 meter hoogte recht omhoog wordt gelanceerd met 30 m/s. Maak gebruik van een gevectorizeerde notatie met [NumPy arrays](https://numpy.org/doc/stable/user/absolute_beginners.html). Het is dus de bedoeling dat je deze berekening uitvoert zonder gebruik te maken van een `for` loop. Schrijf de arrays met de hoogtes en snelheden naar de variabelen `y_analytisch` en `v_analytisch`, want deze zullen later geplot worden. *(2 punten)*"
   ]
  },
  {
   "cell_type": "code",
   "execution_count": 20,
   "id": "6b5dfdd5-41f2-4d8a-84b1-8ac23e700b74",
   "metadata": {
    "id": "6b5dfdd5-41f2-4d8a-84b1-8ac23e700b74"
   },
   "outputs": [],
   "source": [
    "def y_calc(t):\n",
    "    \"Calculates the height according to the given formula\"\n",
    "    return 60 + 30*t + 0.5*-9.81*t**2\n",
    "y_analytisch = y_calc(t_analytisch)\n",
    "\n",
    "# The speed of the rocket is its initial speed + acceleration * time (which is equal to deltaV)\n",
    "def v_calc(t):\n",
    "    \"Calculates the speed according to the given formula\"\n",
    "    return 30+0.5*-9.81*t\n",
    "v_analytisch = v_calc(t_analytisch)\n",
    "\n",
    "# Due to the frequency that these functions are called, no prints are included to prevent cluttering.\n"
   ]
  },
  {
   "cell_type": "markdown",
   "id": "a3abdbe9-c7d6-4143-b53a-9a5fee578639",
   "metadata": {
    "id": "a3abdbe9-c7d6-4143-b53a-9a5fee578639"
   },
   "source": [
    "**[c]** Zet de elementen van de hoogte en snelheid op [NaN](https://nl.wikipedia.org/wiki/NaN) (=*not a number*) voor die tijdstippen waarbij $y<0$. Maak hiervoor gebruik van de `where` functie van NumPy (zie [documentatie](https://numpy.org/doc/stable/reference/generated/numpy.where.html)) en de `nan` constante van NumPy (zie [documentatie](https://numpy.org/doc/stable/reference/constants.html)). *(1 punt)*"
   ]
  },
  {
   "cell_type": "code",
   "execution_count": 21,
   "id": "93934e10-2e98-4e85-b47d-0e5bcbfabb3f",
   "metadata": {
    "id": "93934e10-2e98-4e85-b47d-0e5bcbfabb3f"
   },
   "outputs": [],
   "source": [
    "# Finds all values of y that are negative and sets them as NaN in both y- and v_analytisch\n",
    "n = np.where(y_analytisch<0)\n",
    "y_analytisch[n] = py.nan\n",
    "v_analytisch[n] = py.nan"
   ]
  },
  {
   "cell_type": "markdown",
   "id": "975cca58",
   "metadata": {},
   "source": [
    "De snelheid kan wiskundig worden opgeschreven als de [afgeleide](https://nl.wikipedia.org/wiki/Afgeleide) van de hoogte ten opzichte van de tijd. Vergelijkbaar wordt de versnelling gegeven door de tijdsafgeleide van de snelheid. Hoewel er in dit geval een eenvoudige analytische oplossing is voor de afgeleiden, zijn er ook complexere functies waarbij dit moeilijker analytisch te berekenen is. In dergelijke gevallen kan de afgeleide wel numeriek worden bepaald.\n",
    "\n",
    "De analytische oplossing ga je vergelijken met een [numerieke berekening](https://nl.wikipedia.org/wiki/Numerieke_wiskunde) van dezelfde grootheden. Numeriek will zeggen dat de oplossing van een vergelijking bij benadering wordt uitgerekend door de berekening in stukjes op te delen. Bij het probleemstuk uit deze opgave gaat het om een afgeleide waarbij de functie wordt opgedeeld in kleine stukjes tijd, $\\Delta t$.\n",
    "\n",
    "Een dergelijke eerste [afgeleide](https://nl.wikipedia.org/wiki/Afgeleide) kunnen we op numerieke wijze berekenen door gebruik te maken van [eindige differentie](https://nl.wikipedia.org/wiki/Eindige_differentie). Een afgeleide, $f'(x) = \\frac{dy}{dx}$, wordt met deze methode opgedeeld in kleine stappen $\\Delta x$. De exact oplossing van de afgeleide is het geval waarbij $\\Delta x → 0$:\n",
    "\n",
    "$$f'(x) = \\lim_{\\Delta x \\to 0} \\frac{f(x+\\Delta x)-f(x)}{\\Delta x}$$\n",
    "\n",
    "Numeriek kunnen we de $\\Delta x$ stap heel klein maken, maar er is altijd een limiet aan de te behalen nauwkeurigheid van de afgeleide."
   ]
  },
  {
   "cell_type": "markdown",
   "id": "29834611-071a-41e5-8190-3dda68881be0",
   "metadata": {
    "id": "29834611-071a-41e5-8190-3dda68881be0"
   },
   "source": [
    "**[d]** Schrijf een functie genaamd `vuurpijl_lanceren()` die een hoogte, een startsnelheid in verticale richting, en een stapgrootte in seconden meekrijgt. De functie moet eindige differentie gebruiken om op numerieke wijze de snelheid en hoogte uit te rekenen als functie van tijd. Daarbij moet je gebruik maken van een iteratie met `for` of `while`. De tijdstippen, hoogtes, en snelheden moeten worden opgeslagen in lijsten en worden teruggegeven bij het aanroepen van de functie. Tip: schrijf eerst op hoe de snelheid gedurende één tijdstap verandert onder invloed van de constante versnelling. *(4 punten)*"
   ]
  },
  {
   "cell_type": "code",
   "execution_count": 22,
   "id": "0f9b0e77",
   "metadata": {
    "id": "fc01860d"
   },
   "outputs": [],
   "source": [
    "def vuurpijl_lanceren(hoogte,startsnelheid,stap_grootte):\n",
    "    \"\"\"\n",
    "    Calculates the height and speed of a rocket launched from a given height \n",
    "    with a given speed and step size.\n",
    "    \n",
    "    Parameters:\n",
    "    hoogte: the height from which the rocket is launched\n",
    "    startsnelheid: the speed at which the rocket is launched\n",
    "    stap_grootte: the step size of the calculation\n",
    "    \n",
    "    Returns:\n",
    "    A list of 3 lists: \n",
    "    - the first containing the time values\n",
    "    - the second the height values\n",
    "    - the third the speed values\n",
    "    \"\"\"\n",
    "\n",
    "    # Definition of values and variables\n",
    "    t = 0\n",
    "    dt = stap_grootte\n",
    "    y_vals = [hoogte]\n",
    "    v_vals = [startsnelheid]\n",
    "    t_vals = [t]\n",
    "    g = -9.81 # Assumes the acceleration due to gravity is -9.81 m/s^2\n",
    "    dv = g*dt\n",
    "    v = startsnelheid\n",
    "    y=hoogte\n",
    "    while y > 0:\n",
    "        t += dt\n",
    "        v = v + dv \n",
    "        dy = v*dt\n",
    "        y += dy\n",
    "        if(y<0):\n",
    "            y=0 # Assumes the declearation of the rocket is instantanious\n",
    "        y_vals.append(round(y,2))\n",
    "        v_vals.append(round(v,2))\n",
    "        t_vals.append(round(t,2))\n",
    "        # The values are rounded to 2 decimal places only when passing them to their arrays to ensure the calculations remain accurate\n",
    "\n",
    "    # Due to the simplicity of the function, the size of the final outputs, and its use of a while loop, no further prints are included to prevent cluttering.\n",
    "    return [t_vals, y_vals, v_vals]"
   ]
  },
  {
   "cell_type": "markdown",
   "id": "2831e4fc",
   "metadata": {
    "id": "2831e4fc"
   },
   "source": [
    "**[e]** Voer de functie uit voor de situatie waarbij de vuurpijl van 60 meter hoogte recht omhoog wordt gelanceerd met 30 m/s, en gebruik daarbij tijdstappen van 0.1 seconde. Sla de output van `vuurpijl_lanceren()` op als `t_numeriek`, `y_numeriek`, en `v_numeriek`, voor de tijd, hoogte, en snelheid. *(1 punt)*"
   ]
  },
  {
   "cell_type": "code",
   "execution_count": 23,
   "id": "c1fd8e21",
   "metadata": {
    "id": "c1fd8e21"
   },
   "outputs": [
    {
     "name": "stdout",
     "output_type": "stream",
     "text": [
      "De t waardes zijn:[0, 0.1, 0.2, 0.3, 0.4, 0.5, 0.6, 0.7, 0.8, 0.9, 1.0, 1.1, 1.2, 1.3, 1.4, 1.5, 1.6, 1.7, 1.8, 1.9, 2.0, 2.1, 2.2, 2.3, 2.4, 2.5, 2.6, 2.7, 2.8, 2.9, 3.0, 3.1, 3.2, 3.3, 3.4, 3.5, 3.6, 3.7, 3.8, 3.9, 4.0, 4.1, 4.2, 4.3, 4.4, 4.5, 4.6, 4.7, 4.8, 4.9, 5.0, 5.1, 5.2, 5.3, 5.4, 5.5, 5.6, 5.7, 5.8, 5.9, 6.0, 6.1, 6.2, 6.3, 6.4, 6.5, 6.6, 6.7, 6.8, 6.9, 7.0, 7.1, 7.2, 7.3, 7.4, 7.5, 7.6, 7.7]\n",
      "De y waardes zijn:[60, 62.9, 65.71, 68.41, 71.02, 73.53, 75.94, 78.25, 80.47, 82.59, 84.6, 86.53, 88.35, 90.07, 91.7, 93.23, 94.66, 95.99, 97.22, 98.36, 99.4, 100.34, 101.18, 101.92, 102.57, 103.12, 103.57, 103.92, 104.17, 104.33, 104.38, 104.34, 104.2, 103.97, 103.63, 103.2, 102.67, 102.04, 101.31, 100.48, 99.56, 98.54, 97.42, 96.2, 94.88, 93.47, 91.95, 90.34, 88.63, 86.83, 84.92, 82.92, 80.82, 78.62, 76.32, 73.93, 71.43, 68.84, 66.15, 63.36, 60.48, 57.49, 54.41, 51.23, 47.95, 44.58, 41.1, 37.53, 33.86, 30.09, 26.22, 22.26, 18.19, 14.03, 9.77, 5.41, 0.96, 0]\n",
      "De v waardes zijn:[30, 29.02, 28.04, 27.06, 26.08, 25.09, 24.11, 23.13, 22.15, 21.17, 20.19, 19.21, 18.23, 17.25, 16.27, 15.28, 14.3, 13.32, 12.34, 11.36, 10.38, 9.4, 8.42, 7.44, 6.46, 5.47, 4.49, 3.51, 2.53, 1.55, 0.57, -0.41, -1.39, -2.37, -3.35, -4.34, -5.32, -6.3, -7.28, -8.26, -9.24, -10.22, -11.2, -12.18, -13.16, -14.15, -15.13, -16.11, -17.09, -18.07, -19.05, -20.03, -21.01, -21.99, -22.97, -23.96, -24.94, -25.92, -26.9, -27.88, -28.86, -29.84, -30.82, -31.8, -32.78, -33.77, -34.75, -35.73, -36.71, -37.69, -38.67, -39.65, -40.63, -41.61, -42.59, -43.58, -44.56, -45.54]\n"
     ]
    }
   ],
   "source": [
    "stap_grootte = 0.1 # Defined outside of the function due to the gradient function also requiring it\n",
    "\n",
    "# Calling the function and formatting the results\n",
    "result = vuurpijl_lanceren(60,30,stap_grootte)\n",
    "t_numeriek = result[0]\n",
    "y_numeriek = result[1]\n",
    "v_numeriek = result[2]\n",
    "print(f\"De t waardes zijn:{t_numeriek}\\nDe y waardes zijn:{y_numeriek}\\nDe v waardes zijn:{v_numeriek}\")"
   ]
  },
  {
   "cell_type": "markdown",
   "id": "ad869315",
   "metadata": {
    "id": "54853c10-b489-40e9-ae40-aef050f5a37e"
   },
   "source": [
    "**[f]** Er zijn verschillende numerieke methoden om de afgeleide te berekenen van een functie waarvan alleen specifieke waardes (ook wel *samples* genoemd) beschikbaar zijn, bijvoorbeeld opgeslagen in een array. In ons geval zijn dat samples van de hoogte als functie van tijd. Gebruik de `gradient()` functie van NumPy (zie [documentatie](https://numpy.org/doc/stable/reference/generated/numpy.gradient.html)) om de snelheid uit te rekenen voor `y_analytisch`. Sla de output van `gradient()` op als `v_numpy`. *(1 punt)*"
   ]
  },
  {
   "cell_type": "code",
   "execution_count": 24,
   "id": "6dd987a6",
   "metadata": {
    "id": "731af68e-e0b6-4af0-9b55-394c4a310dae"
   },
   "outputs": [
    {
     "name": "stdout",
     "output_type": "stream",
     "text": [
      "De gradientgebasseerde waardes van v zijn:[ 29.    28.55  27.55  26.55  25.6   24.6   23.6   22.65  21.7   20.65\n",
      "  19.7   18.75  17.7   16.75  15.8   14.8   13.8   12.8   11.85  10.9\n",
      "   9.9    8.9    7.9    6.95   6.     5.     4.     3.     2.05   1.05\n",
      "   0.05  -0.9   -1.85  -2.85  -3.85  -4.8   -5.8   -6.8   -7.8   -8.75\n",
      "  -9.7  -10.7  -11.7  -12.7  -13.65 -14.65 -15.65 -16.6  -17.55 -18.55\n",
      " -19.55 -20.5  -21.5  -22.5  -23.45 -24.45 -25.45 -26.4  -27.4  -28.35\n",
      " -29.35 -30.35 -31.3  -32.3  -33.25 -34.25 -35.25 -36.2  -37.2  -38.2\n",
      " -39.15 -40.15 -41.15 -42.1  -43.1  -44.05 -27.05  -9.6 ]\n",
      "En de numerieke waardes van v zijn:[30, 29.02, 28.04, 27.06, 26.08, 25.09, 24.11, 23.13, 22.15, 21.17, 20.19, 19.21, 18.23, 17.25, 16.27, 15.28, 14.3, 13.32, 12.34, 11.36, 10.38, 9.4, 8.42, 7.44, 6.46, 5.47, 4.49, 3.51, 2.53, 1.55, 0.57, -0.41, -1.39, -2.37, -3.35, -4.34, -5.32, -6.3, -7.28, -8.26, -9.24, -10.22, -11.2, -12.18, -13.16, -14.15, -15.13, -16.11, -17.09, -18.07, -19.05, -20.03, -21.01, -21.99, -22.97, -23.96, -24.94, -25.92, -26.9, -27.88, -28.86, -29.84, -30.82, -31.8, -32.78, -33.77, -34.75, -35.73, -36.71, -37.69, -38.67, -39.65, -40.63, -41.61, -42.59, -43.58, -44.56, -45.54]\n"
     ]
    }
   ],
   "source": [
    "# Uses the np gradient function to determine the derivative (gradient) of the y values\n",
    "v_numpy = np.gradient(y_numeriek, stap_grootte)\n",
    "print(f\"De gradientgebasseerde waardes van v zijn:{v_numpy}\\nEn de numerieke waardes van v zijn:{v_numeriek}\")"
   ]
  },
  {
   "cell_type": "markdown",
   "id": "50965b02",
   "metadata": {},
   "source": [
    "**[g]** Plot de hoogte en snelheid als functie van tijd in twee subplots boven elkaar. Maak daarbij gebruik van de `subplots()` functie van Matplotlib (zie [documentatie](https://matplotlib.org/stable/api/_as_gen/matplotlib.pyplot.subplots.html)). In de bovenste subplot moet de hoogte worden geplot voor de analytische en numerieke method. In de onderste subplot moet de snelheid worden geplot voor de analytische en twee numerieke methoden. Zorg dat de lijnen duidelijk van elkaar te onderscheiden zijn door gebruik te maken van verschillende [lijnstijlen](https://matplotlib.org/stable/gallery/lines_bars_and_markers/linestyles.html) en/of [kleuren](https://matplotlib.org/stable/gallery/color/named_colors.html). Voeg uiteraard ook labels bij de assen, een titel, en een [legenda](https://matplotlib.org/stable/api/_as_gen/matplotlib.pyplot.legend.html) toe. *(3 punten)*"
   ]
  },
  {
   "cell_type": "code",
   "execution_count": 25,
   "id": "51e1089b",
   "metadata": {},
   "outputs": [
    {
     "data": {
      "image/png": "[encoded data removed]",
      "text/plain": [
       "<Figure size 640x480 with 2 Axes>"
      ]
     },
     "metadata": {},
     "output_type": "display_data"
    }
   ],
   "source": [
    "# Create subplots\n",
    "fig, (ax1, ax2) = plt.subplots(2, 1, sharex=True, sharey=True)\n",
    "\n",
    "# Plot v_numeriek on the first subplot\n",
    "ax1.plot(t_numeriek, v_numeriek, label='v_numeriek')\n",
    "ax1.set_title('v_numeriek')\n",
    "ax1.set_ylabel('v (m/s)')\n",
    "ax1.set_xlabel('t (s)')\n",
    "ax1.legend()\n",
    "ax1.grid(True)\n",
    "\n",
    "# Plot v_numpy on a second subplot\n",
    "ax2.plot(t_numeriek, v_numpy, label='v_numpy', color='orange')\n",
    "ax2.set_title('v_numpy')\n",
    "ax2.set_ylabel('v (m/s)')\n",
    "ax2.set_xlabel('t (s)')\n",
    "ax2.legend()\n",
    "ax2.grid(True)\n",
    "\n",
    "# Adjust the spacing between subplots to ensure readability (value of hspace was arbitrarily chosen)\n",
    "plt.subplots_adjust(hspace=0.37) \n",
    "\n",
    "# Show the plot\n",
    "plt.show()"
   ]
  },
  {
   "cell_type": "markdown",
   "id": "abc9df9c",
   "metadata": {
    "id": "abc9df9c"
   },
   "source": [
    "## Opdracht 3: Riemann som *(15 punten)* <a class='anchor' id='riemann_som'></a>"
   ]
  },
  {
   "cell_type": "markdown",
   "id": "Ah59gslVKALL",
   "metadata": {
    "id": "Ah59gslVKALL"
   },
   "source": [
    "**Belangrijk:** *Bij deze opdracht kun je 2 punten verdienen voor de structuur en stijl van je code. Ook kun je 3 punten verdienen voor het toevoegen van duidelijk commentaar bij de code en eventuele tekst cellen met een toelichting.*"
   ]
  },
  {
   "cell_type": "markdown",
   "id": "75cefc8b",
   "metadata": {
    "id": "75cefc8b"
   },
   "source": [
    "In deze opdracht ga je op numerieke wijze de [integraal](https://nl.wikipedia.org/wiki/Integraalrekening) van de volgende functie uitrekenen:\n",
    "\n",
    "$$f(x) = \\frac{1}{x^4+5x^2}$$\n",
    "\n",
    "De uitgerekende waarde van de integraal ga je vervolgens vergelijken met de analytisch oplossing om de [nauwkeurigheid](https://nl.wikipedia.org/wiki/Nauwkeurigheid) van de numerieke methode te bepalen."
   ]
  },
  {
   "cell_type": "markdown",
   "id": "40d06b02-2a1d-4312-b44d-9e91b1134a74",
   "metadata": {
    "id": "40d06b02-2a1d-4312-b44d-9e91b1134a74"
   },
   "source": [
    "**[a]** Allereerst willen we de analytische oplossing berekenen. Voor het gemak, vraag aan [ChatGPT](https://chat.openai.com) en [WolframAlpha](https://www.wolframalpha.com) om de de oplossing van de onbepaalde integraal te geven, oftewel de [primitieve functie](https://nl.wikipedia.org/wiki/Primitieve_functie):\n",
    "\n",
    "$$F(x) = \\int \\frac{1}{x^4+5x^2}\\,dx$$\n",
    "\n",
    "Neem het antwoord over waarvan je denkt dat het correct is en bereken hieronder de analytische waarde van de [bepaalde integraal](https://nl.wikipedia.org/wiki/Integraalrekening) van $f(x)$ over een bereik van $x = 0.01$ tot $x = 2.5$. *(2 punten)*"
   ]
  },
  {
   "cell_type": "code",
   "execution_count": 26,
   "id": "d2c09b61",
   "metadata": {
    "id": "c45b6c6f-f25e-4c62-b460-9550dd668d55"
   },
   "outputs": [
    {
     "name": "stdout",
     "output_type": "stream",
     "text": [
      "19.845172528487954\n"
     ]
    }
   ],
   "source": [
    "def F(x):\n",
    "    \"\"\"\n",
    "    Determines the value of the integral function of the function f(x) at the position x\n",
    "    Parameters: \n",
    "    x, the position at which the integral function is calculated\n",
    "    Returns: \n",
    "    the value of the integral function at the position x\n",
    "    \"\"\"\n",
    "    return -1/(5*x) - (np.arctan(x/5**0.5))/(5*5**0.5)\n",
    "def integral(x1,x2):\n",
    "    \"\"\"\n",
    "    Calculates the integral of the function F(x) between the two given x values\n",
    "    Parameters: \n",
    "    x1, the first x value\n",
    "    x2, the second x value\n",
    "    Returns: \n",
    "    the area of the function F(x) between x1 and x2\n",
    "    \"\"\"\n",
    "    return F(x2) - F(x1)\n",
    "\n",
    "print(integral(0.01,2.5))"
   ]
  },
  {
   "cell_type": "markdown",
   "id": "01b0c7ae-f988-4aed-80db-b04661ffd299",
   "metadata": {
    "id": "01b0c7ae-f988-4aed-80db-b04661ffd299"
   },
   "source": [
    "We zullen nu de integraal op numerieke wijze berekenen, zodat we die kunnen vergelijken met de analytische oplossing. Daarvoor kun je een [Riemann som](https://nl.wikipedia.org/wiki/Riemannintegratie) gebruiken. Met die [numerieke integratie](https://nl.wikipedia.org/wiki/Numerieke_integratie) methode wordt het oppervlak onder en functie benaderd door gebruik te maken van rechthoeken met een constante breedte van $\\Delta x$."
   ]
  },
  {
   "cell_type": "markdown",
   "id": "f3c44500-a012-4468-923f-f818132f89b1",
   "metadata": {
    "id": "f3c44500-a012-4468-923f-f818132f89b1"
   },
   "source": [
    "**[b]** Om de Riemann som toe te passen, schrijf je eerst een functie genaamd `f_x()` die de waarde van $f(x)$ uitrekent voor een input waarde van *x*. Vervolgens schrijf je een tweede functie genaamd `riemann_som()` die met behulp van een [for loop](https://docs.python.org/3/reference/compound_stmts.html#for) de integraal op numerieke wijze uitrekent. De input van `riemann_som()` is de functie die geintereerd moet worden, de onder- en bovengrens voor de integraal, en de stapgrootte, $\\Delta x$. De `riemann_som()` functie moet de waarde van de [bepaalde integraal](https://nl.wikipedia.org/wiki/Integraalrekening) terug geven. *(4 punten)*"
   ]
  },
  {
   "cell_type": "code",
   "execution_count": 27,
   "id": "52680cd2",
   "metadata": {
    "id": "52680cd2"
   },
   "outputs": [],
   "source": [
    "def f(x):\n",
    "    \"\"\"\n",
    "    Determines the value of the function f(x) at the position x\n",
    "    Parameters:\n",
    "    x, the position at which the function is calculated\n",
    "    Returns:\n",
    "    the value of the function at the position x\n",
    "    \"\"\"\n",
    "    return (1/(x**4+5*x**2))\n",
    "\n",
    "def riemann_som(x1,x2,dx):\n",
    "    \"\"\"\n",
    "    Uses small rectangles to approximate the integral of the function f(x) \n",
    "    between the two given x values.\n",
    "    \n",
    "    Parameters: \n",
    "    x1: the first x value \n",
    "    x2: the second x value \n",
    "    dx: the step size of the rectangles\n",
    "    Returns:\n",
    "    the approximate value of the integral as a float\n",
    "    \"\"\"\n",
    "\n",
    "    if x1>x2:\n",
    "        raise Exception(\"The first value must be smaller than the second value\")\n",
    "    \n",
    "    # Calculates the surface of each rectangle and adds them together\n",
    "    surface = 0\n",
    "    x = x1\n",
    "    while x<(x2-dx):\n",
    "        surface+= f(x)*dx\n",
    "        x+=dx\n",
    "    surface += f(x2-dx)*(x2-x) # To prevent the last rectangle from clipping beyond x2 in case dx doesnt fit an integer times inside x2-x1, the following expresion is used instead of f(x2-dx)*dx\n",
    "    \n",
    "    return surface\n",
    "\n"
   ]
  },
  {
   "cell_type": "markdown",
   "id": "6bd13a64",
   "metadata": {
    "id": "6bd13a64"
   },
   "source": [
    "**[c]** Gebruik nu de `riemann_som()` functie om de integraal van $f(x)$ uit te rekenen in het bereik van $x = 0.01$ tot $x = 2.5$, met stapgroottes van $\\Delta x = 0.001$. *(1 punt)*"
   ]
  },
  {
   "cell_type": "code",
   "execution_count": 77,
   "id": "320f1e69",
   "metadata": {
    "id": "320f1e69"
   },
   "outputs": [
    {
     "name": "stdout",
     "output_type": "stream",
     "text": [
      "De waarde uit de riemann som is: 20.878412552625694,\n",
      "die uit het normale analytische geval is: 19.845172528487954\n"
     ]
    }
   ],
   "source": [
    "x1 = 0.01\n",
    "x2 = 2.5\n",
    "dx = 0.001\n",
    "remanSol = riemann_som(x1,x2,dx)\n",
    "intSol = integral(x1,x2)\n",
    "print(f\"De waarde uit de riemann som is: {remanSol},\\ndie uit het normale analytische geval is: {intSol}\")"
   ]
  },
  {
   "cell_type": "markdown",
   "id": "2178065f-2af5-4f43-a183-133c19085020",
   "metadata": {
    "id": "2178065f-2af5-4f43-a183-133c19085020"
   },
   "source": [
    "**[d]** Bereken de [relatieve fout](https://nl.wikipedia.org/wiki/Relatieve_fout) van de numeriek geïntegreerde waarde in procenten. *(1 punt)*"
   ]
  },
  {
   "cell_type": "code",
   "execution_count": 78,
   "id": "d599ce70-9f99-4b2b-90fb-d176796881af",
   "metadata": {
    "id": "d599ce70-9f99-4b2b-90fb-d176796881af"
   },
   "outputs": [
    {
     "name": "stdout",
     "output_type": "stream",
     "text": [
      "De Riemannsom geeft een waarde 5.21% groter dan de analytische oplossing\n"
     ]
    }
   ],
   "source": [
    "def relError(remanSol,intSol):\n",
    "    \"\"\"\n",
    "    Calculates the relative error of the Riemann sum compared to the analytical solution.\n",
    "    \n",
    "    Parameters: \n",
    "    remanSol: the value of the Riemann sum\n",
    "    intSol: the value of the analytical solution\n",
    "    Returns: \n",
    "    A string with the relative error in percentages\n",
    "    \"\"\"\n",
    "    try: \n",
    "        perc = (remanSol/intSol)*100\n",
    "    except:\n",
    "        print(\"An error has occured for calculating the relative error. Is it possible that you have divided by zero?\")\n",
    "    if(perc<100):\n",
    "        print(f\"De Riemannsom geeft een waarde {100-perc:.2f}% kleiner dan de analytische oplossing\")\n",
    "    elif(perc>100):\n",
    "        print(f\"De Riemannsom geeft een waarde {perc-100:.2f}% groter dan de analytische oplossing\")\n",
    "    else:\n",
    "        print(\"De riemannsom en analytische oplossing geven een gelijke waarde\")\n",
    "relError(remanSol,intSol)"
   ]
  },
  {
   "cell_type": "markdown",
   "id": "22e5adb7",
   "metadata": {
    "id": "22e5adb7"
   },
   "source": [
    "**[e]** Leg uit op welke wijze de numerieke fout kleiner kan worden gemaakt. Voer de `riemann_som()` functie opnieuw uit en zorg dat de relatieve fout 0.01% is. Is er een nadeel aan het kleiner maken van de numerieke fout? *(2 punten)*"
   ]
  },
  {
   "cell_type": "code",
   "execution_count": 79,
   "id": "e66cee9e",
   "metadata": {
    "id": "e66cee9e"
   },
   "outputs": [
    {
     "name": "stdout",
     "output_type": "stream",
     "text": [
      "De Riemannsom geeft een waarde 0.01% groter dan de analytische oplossing\n"
     ]
    }
   ],
   "source": [
    "# Door kleinere balkjes te gebruiken wordt de waarde van de riemannsom nauwkeuriger (kleinere dx)\n",
    "# Dit kost daarentegen een stuk meer computerkracht; voor een n keer kleinere dx wordt de berekening n keer zo lang, maar niet n keer zo accuraat.\n",
    "remanSol = riemann_som(x1,x2,0.000001)\n",
    "relError(remanSol,intSol)"
   ]
  },
  {
   "cell_type": "markdown",
   "id": "1c922438",
   "metadata": {
    "id": "1c922438"
   },
   "source": [
    "## Opdracht 4: Lichtkracht van de zon *(20 punten)* <a class='anchor' id='lichtkracht_zon'></a>"
   ]
  },
  {
   "cell_type": "markdown",
   "id": "th1qrM5mK12s",
   "metadata": {
    "id": "th1qrM5mK12s"
   },
   "source": [
    "**Belangrijk:** *Bij deze opdracht kun je 2 punten verdienen voor de structuur en stijl van je code. Ook kun je 3 punten verdienen voor het toevoegen van duidelijk commentaar bij de code en eventuele tekst cellen met een toelichting.*"
   ]
  },
  {
   "cell_type": "markdown",
   "id": "2425ef82",
   "metadata": {
    "id": "2425ef82"
   },
   "source": [
    "In plaats van de [Riemann som](https://nl.wikipedia.org/wiki/Riemannintegratie) zijn er ook andere numerieke integratiemethodes die een hogere nauwkeurigheid kunnen halen met minder rekentijd. In deze opdracht ga je twee functies uit de [SciPy](https://scipy.org) bibliotheek gebruiken.\n",
    "\n",
    "De functie die je gaat integreren is de [stralingswet van Planck](https://nl.wikipedia.org/wiki/Wet_van_Planck). Deze wet geeft de intensiteitsverdeling van het licht dat wordt uitgestraald door een ideale stralingsbron met temperatuur $T$, ook wel [zwarte straler](https://nl.wikipedia.org/wiki/Zwarte_straler) genoemd.\n",
    "\n",
    "De formule voor de wet van Planck heeft als functie van frequentie, $\\nu$, en temperatuur, $T$, de volgende vorm:\n",
    "\n",
    "$$B_\\nu(\\nu, T) = \\pi\\,\\frac{2h\\nu^3}{c^2}\\frac{1}{e^\\frac{h\\nu}{kT}-1}$$\n",
    "\n",
    "Deze formule geeft de energie die wordt uitgestraald per eenheid van tijd, oppervlakte, en frequentie. De [SI eenheid](https://nl.wikipedia.org/wiki/SI-stelsel) van $B_\\nu(\\nu, T)$ is W m$^{-2}$ Hz$^{-1}$ . De formule bevat ook de [lichtsnelheid](https://nl.wikipedia.org/wiki/Lichtsnelheid), $c$, de [constante van Planck](https://nl.wikipedia.org/wiki/Constante_van_Planck), $h$, en de [Boltzmannconstante](https://nl.wikipedia.org/wiki/Boltzmannconstante), $k$."
   ]
  },
  {
   "cell_type": "markdown",
   "id": "a9fbe77a",
   "metadata": {
    "id": "a9fbe77a"
   },
   "source": [
    "**[a]** Schrijf een functie genaamd `stralings_wet()` die de temperatuur in kelvin en een array met frequenties in Hz als input parameters heeft. De functie moet de flux in W m$^{-2}$ Hz$^{-1}$ teruggeven. *(3 punten)*"
   ]
  },
  {
   "cell_type": "code",
   "execution_count": 61,
   "id": "952af376",
   "metadata": {
    "id": "952af376"
   },
   "outputs": [],
   "source": [
    "def stralings_wet(v,T):\n",
    "    \"\"\"\n",
    "    Calculates the intensity of radiation emitted by a black body at a given temperature and frequency.\n",
    "    \n",
    "    Parameters:\n",
    "    v: the frequency of the radiation in Hz\n",
    "    T: the temperature of the black body in Kelvin\n",
    "    Returns:\n",
    "    The intensity of the radiation as a float in W/m^2/Hz.\n",
    "    \"\"\"\n",
    "    # Natural constants:\n",
    "    c = 3*10**8 # Speed of light in m/s\n",
    "    h = 6.63*10**-34 # Planck's constant in J s\n",
    "    k = 1.38*10**-23 # Boltzmann's constant in J/K\n",
    "\n",
    "    # Calculates the intensity of the radiation according to the given formula\n",
    "    val = np.pi * (2*h*v**3)/c**2 * 1/(np.e**((h*v)/(k*T))-1)\n",
    "\n",
    "    # The value is returned with units via print, and returned just as a value via the return statement to allow for future reference\n",
    "    return val"
   ]
  },
  {
   "cell_type": "markdown",
   "id": "573bd795",
   "metadata": {
    "id": "573bd795"
   },
   "source": [
    "**[b]** Gebruik nu de `logspace()` functie van NumPy (zie [documentatie](https://numpy.org/doc/stable/reference/generated/numpy.logspace.html)) om een array genaamd `frequenties` met 100 golflengtes te maken van $2 \\times 10^{12}$ Hz tot $2 \\times 10^{15}$ Hz. *(1 punt)*"
   ]
  },
  {
   "cell_type": "code",
   "execution_count": 62,
   "id": "cc785141-23a8-4efe-94ec-60e290a6abb2",
   "metadata": {
    "id": "cc785141-23a8-4efe-94ec-60e290a6abb2"
   },
   "outputs": [],
   "source": [
    "frequenties = np.logspace(12, 15, 100) * 2\n"
   ]
  },
  {
   "cell_type": "markdown",
   "id": "a54cf4ce-03aa-4336-9dbc-5f00f3c9099b",
   "metadata": {
    "id": "a54cf4ce-03aa-4336-9dbc-5f00f3c9099b"
   },
   "source": [
    "We kunnen het [spectrum](https://nl.wikipedia.org/wiki/Spectrum) van een ster benaderen met de stralingswet van Planck."
   ]
  },
  {
   "cell_type": "markdown",
   "id": "67c8a07c-5937-4f1b-acda-f209615c447b",
   "metadata": {
    "id": "67c8a07c-5937-4f1b-acda-f209615c447b"
   },
   "source": [
    "**[c]** Gebruik de `stralings_wet()` functie en de `frequenties` array om het spectrum van een zwartlichaamstraler te berekenen bij 4000, 5000, 6000, en 7000 K. Sla de output op in één 2D [array](https://numpy.org/doc/stable/user/basics.creation.html) met 4 kolommen en genaamd `flux`. Het is dus *niet* de bedoeling om het resultaat van elke temperatuur in een aparte variabele op te slaan. *(2 punt)*"
   ]
  },
  {
   "cell_type": "code",
   "execution_count": 63,
   "id": "e3403332-f6e8-4481-a592-79408e7ec34a",
   "metadata": {
    "id": "e3403332-f6e8-4481-a592-79408e7ec34a"
   },
   "outputs": [],
   "source": [
    "# Calcalates the intensity of radiation for a black body at different temperatures\n",
    "res4000K = stralings_wet(frequenties,4000)\n",
    "res5000K = stralings_wet(frequenties,5000)\n",
    "res6000K = stralings_wet(frequenties,6000)\n",
    "res7000K = stralings_wet(frequenties,7000)\n",
    "\n",
    "# Ordens these result into the 2D array flux \n",
    "flux = np.array([res4000K,res5000K,res6000K,res7000K])"
   ]
  },
  {
   "cell_type": "markdown",
   "id": "1f68b4a5",
   "metadata": {
    "id": "1f68b4a5"
   },
   "source": [
    "**[d]** Maak een plot waarin de spectra van de vorige vraag worden gecombineerd en gebruik daarbij verschillende lijnstijlen of kleuren. In tegenstelling tot de vorige plot opdrachten, moeten de Matplotlib [methodes](https://docs.python.org/3/tutorial/classes.html#method-objects) direct toegepast worden op de assen (`Axes` object; zie [documentatie](https://matplotlib.org/stable/api/_as_gen/matplotlib.axes.Axes.html)) van het figuur (`Figure` object; zie [documentatie](https://matplotlib.org/stable/api/_as_gen/matplotlib.pyplot.figure.html)), dus op een [object georiënteerde wijze](https://python3.nl/wiki/object-georienteerd-programmeren-oop-klassen-objecten/). Zet de schaal van zowel de $x$-as en $y$-as op logaritmisch (zie [documentatie](https://matplotlib.org/stable/api/_as_gen/matplotlib.axes.Axes.set_xscale.html#matplotlib.axes.Axes.set_xscale)). Zorg dat de frequenties langs de $x$-as in waarde afnemen. Gebruik als eenheden GHz bij de $x$-as en W m$^{-2}$ Hz$^{-1}$ bij de $y$-as. Voeg uiteraard ook een legenda, labels bij de assen, en een titel toe. *(3 punt)*"
   ]
  },
  {
   "cell_type": "code",
   "execution_count": 64,
   "id": "b287810d",
   "metadata": {
    "id": "b287810d"
   },
   "outputs": [
    {
     "data": {
      "text/plain": [
       "<matplotlib.legend.Legend at 0x237627847d0>"
      ]
     },
     "execution_count": 64,
     "metadata": {},
     "output_type": "execute_result"
    },
    {
     "data": {
      "image/png": "[encoded data removed]",
      "text/plain": [
       "<Figure size 640x480 with 1 Axes>"
      ]
     },
     "metadata": {},
     "output_type": "display_data"
    }
   ],
   "source": [
    "# Renames the values for readability\n",
    "x_vals = frequenties\n",
    "line1_y_vals = flux[0] # 4000K\n",
    "line2_y_vals = flux[1] # 5000K\n",
    "line3_y_vals = flux[2] # 6000K\n",
    "line4_y_vals = flux[3] # 7000K\n",
    "\n",
    "# Starts the plot\n",
    "fig, ax = plt.subplots()\n",
    "\n",
    "\n",
    "# Plots each line\n",
    "ax.plot(x_vals,line1_y_vals, label='4000K', color='red')\n",
    "ax.plot(x_vals,line2_y_vals, label='5000K', color='lime')\n",
    "ax.plot(x_vals,line3_y_vals, label='6000K', color='aqua')\n",
    "ax.plot(x_vals,line4_y_vals, label='7000K', color='purple')\n",
    "\n",
    "# \"Prettifies\" the plot\n",
    "ax.grid(True)\n",
    "ax.set_xlabel(\"Frequency (Hz)\")\n",
    "ax.set_ylabel(\"Intensity (W/m^2/Hz)\")\n",
    "ax.set_title(\"Intensiteit op van golflengtes bij verschillende temperaturen van zwarte stralers\")\n",
    "ax.set_xscale('log')\n",
    "ax.set_yscale('log')\n",
    "ax.legend()\n"
   ]
  },
  {
   "cell_type": "markdown",
   "id": "e00e5dab",
   "metadata": {
    "id": "e00e5dab"
   },
   "source": [
    "De totale flux van een zwarte straler kan analytisch worden berekend met de [wet van Stefan-Boltzmann](https://nl.wikipedia.org/wiki/Zwarte_straler#Formules_voor_de_totale_straling_over_het_hele_spectrum). Het vermogen per oppervlakte-eenheid is $\\sigma T^4$, waarbij $\\sigma$ de [constante van Stefan-Boltzmann](https://nl.wikipedia.org/wiki/Constante_van_Stefan-Boltzmann) is en $T$ de temperatuur van de zwarte straler.\n",
    "\n",
    "Voor een bolvormig oppervlak met straal $R$ is de lichtkracht dus:\n",
    "\n",
    "$$L = 4\\pi R^2 \\sigma T^4$$"
   ]
  },
  {
   "cell_type": "markdown",
   "id": "13d577f7-8f2e-4a77-9906-0b2404812c3a",
   "metadata": {
    "id": "13d577f7-8f2e-4a77-9906-0b2404812c3a"
   },
   "source": [
    "**[e]** De zon heeft een [effectieve temperatuur](https://nl.wikipedia.org/wiki/Effectieve_temperatuur) van ongeveer 5770 K. Gebruik de formule om de lichtkracht van de zon te bereken in Watt. Zoals altijd, print het antwoord op een duidelijke wijze door gebruik te maken van een [f-string](https://docs.python.org/3/tutorial/inputoutput.html#tut-f-strings). *(1 punt)*"
   ]
  },
  {
   "cell_type": "code",
   "execution_count": 65,
   "id": "33bdc2b7",
   "metadata": {
    "id": "33bdc2b7"
   },
   "outputs": [
    {
     "data": {
      "text/plain": [
       "3.8257329793846036e+26"
      ]
     },
     "execution_count": 65,
     "metadata": {},
     "output_type": "execute_result"
    }
   ],
   "source": [
    "def totFlux(T,R):\n",
    "    \"\"\"\n",
    "    Calculates the total flux of a black body at a given temperature and radius.\n",
    "    \n",
    "    Parameters:\n",
    "    T: the temperature of the black body\n",
    "    R: the radius of the black body\n",
    "    Returns:\n",
    "    The total flux of the black body as a float\n",
    "    \"\"\"\n",
    "    stefBoltz = 5.67*10**-8 # Stefan-Boltzmann constant in W/m^2/K^4\n",
    "    val = 4*np.pi*R**2*stefBoltz*T**4\n",
    "    # print(f\"De totale lichtkracht is {val} W\"), the print statement is commented out to prevent cluttering\n",
    "    return (val)\n",
    "r_zon = 6.96*10**8 # Radius of the sun in meters\n",
    "totFlux(5770,r_zon)"
   ]
  },
  {
   "cell_type": "markdown",
   "id": "1abbee3e",
   "metadata": {},
   "source": [
    "Ter vergelijking zullen we nu de lichtkracht ook uitrekenen met een numerieke methode. In plaats van de eerder gebruikte [Riemann som](https://nl.wikipedia.org/wiki/Riemannintegratie), ga je nu de [trapeziumregel](https://nl.wikipedia.org/wiki/Trapeziumregel) toepassen. Voor integratie met de trapeziumregel is een implementatie beschikbaar in de [SciPy bibliotheek](https://scipy.org). Lees goed de achtergrond informatie om het verschil tussen de Riemann som en de trapeziumregel te begrijpen."
   ]
  },
  {
   "cell_type": "markdown",
   "id": "84aec91b",
   "metadata": {
    "id": "84aec91b"
   },
   "source": [
    "**[f]** Importeer de `trapezoid()` functie (zie [documentatie](https://docs.scipy.org/doc/scipy/reference/generated/scipy.integrate.trapezoid.html)) uit de `integrate` module (zie [documentatie](https://docs.scipy.org/doc/scipy/tutorial/integrate.html)) van de SciPy biblioteek. Gebruik de `trapezoid()` functie om de geïntegreerde flux uit te rekenen voor een zwarte straler van 5770 K. *(2 punten)*"
   ]
  },
  {
   "cell_type": "code",
   "execution_count": 66,
   "id": "719d972d",
   "metadata": {
    "id": "719d972d"
   },
   "outputs": [
    {
     "name": "stdout",
     "output_type": "stream",
     "text": [
      "De geintegreede flux iss: 399274.06754937384 W/m^2\n"
     ]
    }
   ],
   "source": [
    "import scipy.integrate as spi\n",
    "\n",
    "def intFluxTrap(T):\n",
    "    \"\"\"\n",
    "    Calculates the total flux of a black body at a given temperature using the trapezoid method.\n",
    "    \n",
    "    Parameters:\n",
    "    T: the temperature of the black body\n",
    "    Returns:\n",
    "    the total flux as a float\n",
    "    \"\"\"\n",
    "    yWaardes = stralings_wet(frequenties,T)\n",
    "    return spi.trapezoid(yWaardes, dx=frequenties[1]-frequenties[0]) # To ensure that the dx is the correct one, it is based of the x values (frequencies)\n",
    "\n",
    "print(f\"De geintegreede flux iss: {intFluxTrap(5770)} W/m^2\")\n"
   ]
  },
  {
   "cell_type": "markdown",
   "id": "98b4d30e",
   "metadata": {
    "id": "98b4d30e"
   },
   "source": [
    "**[g]** Bereken de [relatieve fout](https://nl.wikipedia.org/wiki/Relatieve_fout) van de numerieke berekening in procenten, door het resultaat met `trapezoid()` te vergelijken met de analytische waarde, $\\sigma T^4$. *(1 punt)*"
   ]
  },
  {
   "cell_type": "code",
   "execution_count": 67,
   "id": "11295f34",
   "metadata": {
    "id": "11295f34"
   },
   "outputs": [
    {
     "name": "stdout",
     "output_type": "stream",
     "text": [
      "De analytische waarde is 3.8257329793846036e+26\n",
      "De trapezoidale waarde is 2.430521389389969e+24 W\n",
      "De trapezoidale waarde is 99.36% kleiner dan de analytische oplossing\n"
     ]
    }
   ],
   "source": [
    "def relFoutFlux(T,R):\n",
    "    \"\"\"\n",
    "    Compare the trapezoid method to the analytical solution for the total flux of a black body at a given temperature\n",
    "    Parameters: \n",
    "    T, the temperature of the black body\n",
    "    R, the radius of the black body\n",
    "    Returns: a string with the relative error in percentages\n",
    "    \"\"\"\n",
    "    fluxValTrap = intFluxTrap(T)\n",
    "    Surface = 4*np.pi*R**2\n",
    "    WattageTrap = fluxValTrap*Surface\n",
    "    WattageAnalytisch = totFlux(T,R)\n",
    "\n",
    "    # Print statements are commented out to prevent cluttering\n",
    "    # print(f\"De analytische waarde is {WattageAnalytisch}\")\n",
    "    # print(f\"De trapezoidale waarde is {WattageTrap} W\")\n",
    "    perc = (WattageTrap/WattageAnalytisch)*100\n",
    "    if(perc<100):\n",
    "        print(f\"De trapezoidale waarde is {100-perc:.2f}% kleiner dan de analytische oplossing\")\n",
    "    elif(perc>100):\n",
    "        print(f\"De trapezoidale waarde is {perc-100:.2f}% groter dan de analytische oplossing\")\n",
    "    else:\n",
    "        print(\"De trapezoidale waarde en analytische oplossing geven een gelijke waarde\")\n",
    "\n",
    "relFoutFlux(5770,r_zon)"
   ]
  },
  {
   "cell_type": "markdown",
   "id": "2bd24410",
   "metadata": {
    "id": "2bd24410"
   },
   "source": [
    "De `trapezoid()` functie gebruikt een vaste stapgrootte voor de $x$-as (in dit geval de golflengtes) aan de hand van de *samples* die de array bevat. Die stapgrootte is van invloed op de numerieke nauwkeurigheid van de integraal, met name als de functie bij sommige golflengtes sneller verandert dan bij andere golflengtes. Als de functie snel verandert is het efficienter om een kleinere stapgrootte te gebruiken, terwijl grotere stapgrootes kunnen worden gebruikt als de functie langzaam verandert."
   ]
  },
  {
   "cell_type": "markdown",
   "id": "b1ca1ea9-ce9f-4cbc-b8b3-9c6c3f44f806",
   "metadata": {
    "id": "b1ca1ea9-ce9f-4cbc-b8b3-9c6c3f44f806"
   },
   "source": [
    "**[h]** De `quad()` functie van SciPy (zie [documentatie](https://docs.scipy.org/doc/scipy/reference/generated/scipy.integrate.quad.html)) heeft als argument een [functie object](https://docs.python.org/3/tutorial/controlflow.html#defining-functions) in plaats van een array met *samples*. Gebruik `quad()` om de `stralings_wet()` functie te integreren van 1 Hz to $10^{16}$ Hz voor de effectieve temperature van de zon. Die laatste kun je opgeven via één van de parameters van `quad()` dus lees eerste goed de documentatie. *(2 punt)*"
   ]
  },
  {
   "cell_type": "code",
   "execution_count": 69,
   "id": "04c30ad4",
   "metadata": {
    "id": "04c30ad4"
   },
   "outputs": [
    {
     "name": "stdout",
     "output_type": "stream",
     "text": [
      "De waarde (volgens de quad functie) ligt tussen 62535208.5252188 en 62535208.90045737 W/m^2\n"
     ]
    }
   ],
   "source": [
    "val = spi.quad(stralings_wet,1,1e16,args=(5770,))\n",
    "print(f\"De waarde (volgens de quad functie) ligt tussen {val[0]-val[1]} en {val[0]+val[1]} W/m^2\")"
   ]
  }
 ],
 "metadata": {
  "colab": {
   "provenance": []
  },
  "kernelspec": {
   "display_name": "Python 3",
   "language": "python",
   "name": "python3"
  },
  "language_info": {
   "codemirror_mode": {
    "name": "ipython",
    "version": 3
   },
   "file_extension": ".py",
   "mimetype": "text/x-python",
   "name": "python",
   "nbconvert_exporter": "python",
   "pygments_lexer": "ipython3",
   "version": "3.11.5"
  }
 },
 "nbformat": 4,
 "nbformat_minor": 5
}
